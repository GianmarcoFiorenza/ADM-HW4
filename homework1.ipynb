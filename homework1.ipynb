{
 "cells": [
  {
   "cell_type": "markdown",
   "id": "daef69fa",
   "metadata": {},
   "source": [
    "# HOMEWORK1-H_R-GIANMARCO.FIORERNZA"
   ]
  },
  {
   "cell_type": "markdown",
   "id": "28a56518-6805-4296-8c51-1de818baba71",
   "metadata": {},
   "source": [
    "## Problem 1."
   ]
  },
  {
   "cell_type": "markdown",
   "id": "61f43304-0cee-461f-a907-899d97b97c95",
   "metadata": {},
   "source": [
    "### introduction "
   ]
  },
  {
   "cell_type": "code",
   "execution_count": 1,
   "id": "d830ef6e",
   "metadata": {},
   "outputs": [
    {
     "name": "stdout",
     "output_type": "stream",
     "text": [
      "Hello, World!\n"
     ]
    }
   ],
   "source": [
    "#Say \"Hello, World!\" With Python\n",
    "f=\"Hello, World!\"\n",
    "print(f)\n",
    "    "
   ]
  },
  {
   "cell_type": "code",
   "execution_count": 2,
   "id": "bbc735bb",
   "metadata": {},
   "outputs": [
    {
     "name": "stdout",
     "output_type": "stream",
     "text": [
      "5\n",
      "Weird\n"
     ]
    }
   ],
   "source": [
    "#Python If-Else\n",
    "import math\n",
    "import os\n",
    "import random\n",
    "import re\n",
    "import sys\n",
    "\n",
    "n = int(input().strip())\n",
    "if n%2 == 1 :\n",
    "    print(\"Weird\")\n",
    "elif n >= 2 and n <= 5 :\n",
    "    print(\"Not Weird\")\n",
    "elif n >= 6 and n <= 20 :\n",
    "    print(\"Weird\")\n",
    "else :\n",
    "    print(\"Not Weird\")\n"
   ]
  },
  {
   "cell_type": "code",
   "execution_count": 3,
   "id": "2da9e71e",
   "metadata": {},
   "outputs": [
    {
     "name": "stdout",
     "output_type": "stream",
     "text": [
      "6\n",
      "3\n",
      "9\n",
      "3\n",
      "18\n"
     ]
    }
   ],
   "source": [
    "#Arithmetic Operators\n",
    "a = int(input())\n",
    "b = int(input())\n",
    "print(a + b)\n",
    "print(a - b)\n",
    "print(a * b)\n"
   ]
  },
  {
   "cell_type": "code",
   "execution_count": 4,
   "id": "e92c244b",
   "metadata": {},
   "outputs": [
    {
     "name": "stdout",
     "output_type": "stream",
     "text": [
      "7\n",
      "8\n",
      "0\n",
      "0.875\n"
     ]
    }
   ],
   "source": [
    "#Python: Division\n",
    "if __name__ == '__main__':\n",
    "    a = int(input())\n",
    "    b = int(input())\n",
    "    print(a//b)\n",
    "    print(a/b)\n"
   ]
  },
  {
   "cell_type": "code",
   "execution_count": 5,
   "id": "08d79a96",
   "metadata": {},
   "outputs": [
    {
     "name": "stdout",
     "output_type": "stream",
     "text": [
      "6\n",
      "0\n",
      "1\n",
      "4\n",
      "9\n",
      "16\n",
      "25\n"
     ]
    }
   ],
   "source": [
    "#Loops\n",
    "n = int(input())\n",
    "for i in range(0,n):\n",
    "    print(i**2)\n"
   ]
  },
  {
   "cell_type": "code",
   "execution_count": 7,
   "id": "a4ce1d9e",
   "metadata": {},
   "outputs": [
    {
     "name": "stdout",
     "output_type": "stream",
     "text": [
      "2400\n",
      "True\n"
     ]
    }
   ],
   "source": [
    "#Write a function def is_leap(year):\n",
    "def is_leap(year):\n",
    "    leap = False\n",
    "    if year%4==0 :\n",
    "        leap= True\n",
    "        if year%100==0 :\n",
    "            leap= False\n",
    "            if year%400==0 :\n",
    "                leap= True\n",
    "    return leap\n",
    "\n",
    "year = int(input())\n",
    "print(is_leap(year))"
   ]
  },
  {
   "cell_type": "code",
   "execution_count": 8,
   "id": "d2cd287a",
   "metadata": {},
   "outputs": [
    {
     "name": "stdout",
     "output_type": "stream",
     "text": [
      "35\n",
      "1234567891011121314151617181920212223242526272829303132333435\n"
     ]
    }
   ],
   "source": [
    "#Print Function\n",
    "n = int(input())\n",
    "m=n\n",
    "t=0\n",
    "for i in range(0,n+1) :\n",
    "    if i < 10 :\n",
    "        t= t+ (i*(10**m))\n",
    "        m= m-1\n",
    "    elif i < 100 :\n",
    "        t= t*10+ (i*(10**m))\n",
    "        m= m-1\n",
    "    else :\n",
    "        t= t*100+ (i*(10**m))\n",
    "        m= m-1\n",
    "print(t)\n",
    "    "
   ]
  },
  {
   "cell_type": "code",
   "execution_count": 9,
   "id": "a9a0ed1a",
   "metadata": {},
   "outputs": [
    {
     "name": "stdout",
     "output_type": "stream",
     "text": [
      "8\n",
      "3 4 5 6 34 21 23 90\n",
      "34\n"
     ]
    }
   ],
   "source": [
    "#Find the Runner-Up Score!\n",
    "if __name__ == '__main__':\n",
    "    n = int(input())\n",
    "    arr = map(int, input().split())\n",
    "    runner_1= -100\n",
    "    runner_2= -100\n",
    "    A=list(arr)\n",
    "    for i in range(len(A)) :\n",
    "        if A[i] > runner_1 :\n",
    "            runner_1=A[i]\n",
    "    \n",
    "    for i in range(len(A)) :\n",
    "        if A[i] > runner_2 and A[i] < runner_1 :\n",
    "            runner_2=A[i]\n",
    "            \n",
    "    print(runner_2)\n",
    "    \n",
    "    "
   ]
  },
  {
   "cell_type": "markdown",
   "id": "5c52a466-d056-4753-970b-e4aeb15c89a3",
   "metadata": {},
   "source": [
    "### Basic Data Types"
   ]
  },
  {
   "cell_type": "code",
   "execution_count": 10,
   "id": "6676e5f4",
   "metadata": {},
   "outputs": [
    {
     "name": "stdout",
     "output_type": "stream",
     "text": [
      "1\n",
      "2\n",
      "1\n",
      "1\n",
      "[[0, 0, 0], [0, 1, 1], [0, 2, 0], [0, 2, 1], [1, 0, 1], [1, 1, 0], [1, 1, 1], [1, 2, 0], [1, 2, 1]]\n"
     ]
    }
   ],
   "source": [
    "#List Comprehensions\n",
    "if __name__ == '__main__':\n",
    "    x = int(input())\n",
    "    y = int(input())\n",
    "    z = int(input())\n",
    "    n = int(input())\n",
    "\n",
    "permut=[]\n",
    "for i in range(x+1) :\n",
    "    for j in range(y+1) :\n",
    "        for k in range(z+1) :\n",
    "            permut.append([i,j,k])\n",
    "\n",
    "new_permut=[[i,j,k] for [i,j,k] in permut if i+j+k!=n]\n",
    "print (new_permut)\n"
   ]
  },
  {
   "cell_type": "code",
   "execution_count": 12,
   "id": "5350de4b",
   "metadata": {},
   "outputs": [
    {
     "name": "stdout",
     "output_type": "stream",
     "text": [
      "3\n",
      "gabriele\n",
      "43\n",
      "io\n",
      "12\n",
      "franco\n",
      "23\n",
      "franco\n"
     ]
    }
   ],
   "source": [
    "#Nested Lists\n",
    "if __name__ == '__main__':\n",
    "    lst=[]\n",
    "    second_low=[]\n",
    "    f_l_s= 100\n",
    "    s_l_s= 100\n",
    "    for _ in range(int(input())):\n",
    "        name = input()\n",
    "        score = float(input())\n",
    "        a={'name': name, 'score': score}\n",
    "        lst.append(a)\n",
    "        \n",
    "    for i in lst :\n",
    "        if i['score'] < f_l_s :\n",
    "            f_l_s = i['score']\n",
    "    for i in lst :\n",
    "        if i['score'] < s_l_s and i['score'] > f_l_s:\n",
    "            s_l_s = i['score']\n",
    "    for i in lst :\n",
    "        if i['score']== s_l_s :\n",
    "            second_low.append(i['name'])\n",
    "            \n",
    "    second_low.sort()\n",
    "    for i in second_low :\n",
    "        print (i)\n"
   ]
  },
  {
   "cell_type": "code",
   "execution_count": 18,
   "id": "75a33f1e",
   "metadata": {},
   "outputs": [
    {
     "name": "stdout",
     "output_type": "stream",
     "text": [
      "2\n",
      "leo 18 24 30\n",
      "gia 22 27 30\n",
      "leo\n",
      "24.00\n"
     ]
    }
   ],
   "source": [
    "#Finding the percentage\n",
    "if __name__ == '__main__':\n",
    "    n = int(input())\n",
    "    student_marks = {}\n",
    "    for _ in range(n):\n",
    "        name, *line = input().split()\n",
    "        scores = list(map(float, line))\n",
    "        student_marks[name] = scores\n",
    "    query_name = input()\n",
    "           \n",
    "    media=(sum(student_marks[query_name])/len(student_marks[query_name]))\n",
    "    media= format(media,\".2f\")\n",
    "    print(media)\n"
   ]
  },
  {
   "cell_type": "code",
   "execution_count": 29,
   "id": "dc27158f",
   "metadata": {},
   "outputs": [
    {
     "name": "stdout",
     "output_type": "stream",
     "text": [
      "3\n",
      "2 4 6\n",
      "-3144897930111850629\n"
     ]
    }
   ],
   "source": [
    "#Tuples\n",
    "if __name__ == '__main__':\n",
    "    n = int(input())\n",
    "    integer_list = map(int, input().split())\n",
    "    t=tuple(integer_list)\n",
    "    print (hash(t))\n",
    "    \n",
    "        "
   ]
  },
  {
   "cell_type": "markdown",
   "id": "fa6b5c69-4ea8-4a8e-b1fa-b32dd854fc09",
   "metadata": {},
   "source": [
    "### Strings"
   ]
  },
  {
   "cell_type": "code",
   "execution_count": null,
   "id": "0c49a654",
   "metadata": {},
   "outputs": [],
   "source": [
    "#sWAP cASE\n",
    "def swap_case(s):\n",
    "    r = []\n",
    "    for i in s :\n",
    "        if i == i.lower() :\n",
    "            r.append(i.upper())\n",
    "        elif i == i.upper() :\n",
    "            r.append(i.lower())\n",
    "        else:\n",
    "            r.append(i)\n",
    "    return ''.join(r)\n",
    "\n",
    "if __name__ == '__main__':\n",
    "    s = input()\n",
    "    result = swap_case(s)\n",
    "    print(result)"
   ]
  },
  {
   "cell_type": "code",
   "execution_count": null,
   "id": "3dbfbe86",
   "metadata": {},
   "outputs": [],
   "source": [
    "#String Split and Join\n",
    "\n",
    "\n",
    "def split_and_join(line):\n",
    "    b= line.split(\" \")\n",
    "    b= \"-\".join(b)\n",
    "    return b\n",
    "\n",
    "if __name__ == '__main__':\n",
    "    line = input()\n",
    "    result = split_and_join(line)\n",
    "    print(result)\n"
   ]
  },
  {
   "cell_type": "code",
   "execution_count": null,
   "id": "6ac75fdc",
   "metadata": {},
   "outputs": [],
   "source": [
    "#What's Your Name?\n",
    "def print_full_name(first, last):\n",
    "    a=[first,' ',last,'!']\n",
    "    a=\"\".join(a)\n",
    "    s=('Hello', a, 'You just delved into python.')\n",
    "    return s\n",
    "\n",
    "if __name__ == '__main__':\n",
    "f = input()\n",
    "l = input()\n",
    "result = print_full_name(f, l)\n",
    "print(result)\n",
    "\n",
    "\n",
    "    \n"
   ]
  },
  {
   "cell_type": "code",
   "execution_count": null,
   "id": "841389f1",
   "metadata": {},
   "outputs": [],
   "source": [
    "#Mutations\n",
    "def mutate_string(string, position, character):\n",
    "    s= string[:position]+ character+ string[(position +1):]\n",
    "    return s\n",
    "\n",
    "\n",
    "if __name__ == '__main__':\n",
    "    s = input()\n",
    "    i, c = input().split()\n",
    "    s_new = mutate_string(s, int(i), c)\n",
    "    print(s_new)"
   ]
  },
  {
   "cell_type": "code",
   "execution_count": null,
   "id": "9d2123f0",
   "metadata": {},
   "outputs": [],
   "source": [
    "#Find a string\n",
    "def count_substring(string, sub_string):\n",
    "    c= 0\n",
    "    ultimo= -1\n",
    "    for x in range(len(string)) :\n",
    "        if sub_string in string[x:]:\n",
    "            if string[x:].index(sub_string) != ultimo:\n",
    "                c += 1\n",
    "                ultimo= string[x:].index(sub_string)\n",
    "            ultimo -= 1        \n",
    "    return c\n",
    "if __name__ == '__main__':\n",
    "    string = input().strip()\n",
    "    sub_string = input().strip()\n",
    "    \n",
    "    count = count_substring(string, sub_string)\n",
    "    print(count)"
   ]
  },
  {
   "cell_type": "code",
   "execution_count": null,
   "id": "a55ffb0d",
   "metadata": {},
   "outputs": [],
   "source": [
    "#String Validators\n",
    "if __name__ == '__main__':\n",
    "    s = input()\n",
    "    ls=list(s)\n",
    "    num= False\n",
    "    alpha= False\n",
    "    digit= False\n",
    "    lower= False\n",
    "    upper= False\n",
    "    for x in ls:\n",
    "        if x.isalnum()== True :\n",
    "            num=True\n",
    "        if x.isalpha()== True :\n",
    "            alpha=True\n",
    "        if x.isdigit()== True :\n",
    "            digit=True\n",
    "        if x.islower()== True :\n",
    "            lower=True\n",
    "        if x.isupper()== True :\n",
    "            upper=True\n",
    "    print(num)\n",
    "    print(alpha)\n",
    "    print(digit)\n",
    "    print(lower)\n",
    "    print(upper)\n"
   ]
  },
  {
   "cell_type": "code",
   "execution_count": null,
   "id": "cb3b527e",
   "metadata": {},
   "outputs": [],
   "source": [
    "#Text Alignment\n",
    "n= int(input())\n",
    "for i in range(n):\n",
    "    H='H'+ i*2*'H'\n",
    "    print((H.center((2*n),' ')).ljust(6*n))\n",
    "    \n",
    "for i in range(n+1):\n",
    "    H='H'*n\n",
    "    print (H.center(2*n)+ H.center(6*n))\n",
    "    \n",
    "for i in range((n+1)//2):\n",
    "    H='H'*5*n\n",
    "    print(H.center(6*n))\n",
    "    \n",
    "for i in range(n+1):\n",
    "    H='H'*n\n",
    "    print (H.center(2*n)+ H.center(6*n))\n",
    "for i in range(n):\n",
    "    H='H'+ (n-i-1)*2*'H'\n",
    "    print((H.center((2*n),' ')).rjust(6*n))\n"
   ]
  },
  {
   "cell_type": "code",
   "execution_count": null,
   "id": "34c06317",
   "metadata": {},
   "outputs": [],
   "source": [
    "#Text Wrap\n",
    "\n",
    "def wrap(string, max_width):\n",
    "    l_s=len(string)\n",
    "    res=''\n",
    "    q=l_s // max_width\n",
    "    r=l_s % max_width\n",
    "    for x in range(q):\n",
    "        res= res+ (string[x*max_width:(x+1)*max_width])+'\\n'\n",
    "    res= res+ (string[(l_s-r):])\n",
    "    return res\n",
    "if __name__ == '__main__':\n",
    "    string, max_width = input(), int(input())\n",
    "    result = wrap(string, max_width)\n",
    "    print(result)"
   ]
  },
  {
   "cell_type": "code",
   "execution_count": null,
   "id": "7c45f611",
   "metadata": {},
   "outputs": [],
   "source": [
    "#Designer Door Mat\n",
    "N,M=map(int, input().split())\n",
    "\n",
    "for x in range((N-1)//2):\n",
    "    H='.|.' \n",
    "    H= H + 2*x*H\n",
    "    print(H.center(3*N,'-'))\n",
    "    \n",
    "print ('WELCOME'.center(3*N,'-'))    \n",
    "for x in range((N-1)//2):\n",
    "    H='.|.' \n",
    "    H= H + 2*(((N-1)//2)-x-1)*H\n",
    "    print(H.center(3*N,'-'))\n",
    "\n"
   ]
  },
  {
   "cell_type": "code",
   "execution_count": null,
   "id": "fc04bf66",
   "metadata": {},
   "outputs": [],
   "source": [
    "#String Formatting\n",
    "def print_formatted(number):\n",
    "    line=''\n",
    "    for x in range(number):\n",
    "        w=len(bin(number)[2:])\n",
    "        x+=1\n",
    "        x_dec= str(x)\n",
    "        x_oct= oct(x)[2:]\n",
    "        x_hex= hex(x)[2:].upper()\n",
    "        x_bin= bin(x)[2:]\n",
    "       \n",
    "        print(x_dec.rjust(w),x_oct.rjust(w),x_hex.rjust(w),x_bin.rjust(w))\n",
    "        \n",
    "    return "
   ]
  },
  {
   "cell_type": "code",
   "execution_count": null,
   "id": "ee241722",
   "metadata": {},
   "outputs": [],
   "source": [
    "#Rangoli\n",
    "import string\n",
    "def print_rangoli(size):\n",
    "    w=4*size-3\n",
    "    a=[]\n",
    "    s=string.ascii_lowercase\n",
    "    for i in range(size):\n",
    "        r='-'.join(s[i:size])\n",
    "        a.append((r[::-1]+r[1:]).center(w,'-'))\n",
    "    print('\\n'.join(a[:0:-1]+a))\n",
    "        "
   ]
  },
  {
   "cell_type": "markdown",
   "id": "dd5b77e4",
   "metadata": {},
   "source": [
    "### Sets"
   ]
  },
  {
   "cell_type": "code",
   "execution_count": null,
   "id": "4c0a203f",
   "metadata": {},
   "outputs": [],
   "source": [
    "#Introduction to Sets\n",
    "def average(array):\n",
    "    arr_s=set(array)\n",
    "    s, cnt= 0, 0 \n",
    "    for x in arr_s:\n",
    "        s+=x\n",
    "        cnt+=1 \n",
    "        average=s/cnt\n",
    "    return average\n",
    "if __name__ == '__main__':\n",
    "    n = int(input())\n",
    "    arr = list(map(int, input().split()))\n",
    "    result = average(arr)\n",
    "    print(result)"
   ]
  },
  {
   "cell_type": "code",
   "execution_count": null,
   "id": "372d24dc",
   "metadata": {},
   "outputs": [],
   "source": [
    "#Symmetric Difference\n",
    "M=int(input())\n",
    "a=set([int(x) for x in input().split()])\n",
    "N=int(input())\n",
    "b=set([int(x) for x in input().split()])\n",
    "c=a.difference(b)\n",
    "d=b.difference(a)\n",
    "myset=set()\n",
    "myset.update(c)\n",
    "myset.update(d)\n",
    "ls=list(myset)\n",
    "ls.sort()\n",
    "for x in ls:\n",
    "    print(x)\n",
    "\n"
   ]
  },
  {
   "cell_type": "code",
   "execution_count": null,
   "id": "e787cb80",
   "metadata": {},
   "outputs": [],
   "source": [
    "#No Idea!\n",
    "n, m =(int, input().split())\n",
    "\n",
    "n_arr=list(map(int, input().split()))\n",
    "A=set([int(x) for x in input().split()])\n",
    "B=set([int(x) for x in input().split()])\n",
    "hap=0\n",
    "for x in n_arr:\n",
    "    if x in A:\n",
    "        hap+=1\n",
    "    elif x in B:\n",
    "        hap-=1\n",
    "print(hap)\n",
    "    "
   ]
  },
  {
   "cell_type": "code",
   "execution_count": null,
   "id": "a4fee0d5",
   "metadata": {},
   "outputs": [],
   "source": [
    "#Set .add()\n",
    "N= int(input())\n",
    "s=set()\n",
    "for _ in range(N): \n",
    "    s.add(input())\n",
    "l=list(s)\n",
    "print(len(l))\n",
    "    "
   ]
  },
  {
   "cell_type": "code",
   "execution_count": null,
   "id": "648e994b",
   "metadata": {},
   "outputs": [],
   "source": [
    "#Set .discard(), .remove() & .pop()\n",
    "n = int(input())\n",
    "s = set(map(int, input().split()))\n",
    "N=int(input())\n",
    "for _ in range(N):\n",
    "    comand= input().split()\n",
    "    if 'pop' in comand:\n",
    "        s.pop()\n",
    "    if 'remove' in comand:\n",
    "        s.remove(int(comand[1]))\n",
    "    if 'discard' in comand:\n",
    "        s.discard(int(comand[1]))\n",
    "\n",
    "print (sum(s))\n"
   ]
  },
  {
   "cell_type": "code",
   "execution_count": null,
   "id": "e771a95b",
   "metadata": {},
   "outputs": [],
   "source": [
    "\n",
    "        "
   ]
  },
  {
   "cell_type": "code",
   "execution_count": null,
   "id": "113a45cd",
   "metadata": {},
   "outputs": [],
   "source": [
    "#Set .intersection() Operation\n",
    "n=int(input())\n",
    "aset=set(map(int,input().split()))\n",
    "b=int(input())\n",
    "bset=set(map(int,input().split()))\n",
    "if n <= b:\n",
    "    fst=aset\n",
    "    snd=bset\n",
    "else :\n",
    "    fst=bset\n",
    "    snd=aset\n",
    "c=0\n",
    "for x in fst:\n",
    "    if x in snd:\n",
    "        c+=1\n",
    "print(c)\n",
    "    "
   ]
  },
  {
   "cell_type": "code",
   "execution_count": null,
   "id": "4a0ae8a9",
   "metadata": {},
   "outputs": [],
   "source": [
    "#Set .difference() Operation\n",
    "a=int(input())\n",
    "aset=set(map(int,input().split()))\n",
    "b=int(input())\n",
    "bset=set(map(int,input().split()))\n",
    "c= aset.difference(bset)\n",
    "print(len(c))\n",
    "\n"
   ]
  },
  {
   "cell_type": "code",
   "execution_count": 37,
   "id": "9e43f850",
   "metadata": {},
   "outputs": [
    {
     "name": "stdout",
     "output_type": "stream",
     "text": [
      "2\n",
      "2 4\n",
      "4\n",
      "4 5 6 7\n",
      "4\n"
     ]
    }
   ],
   "source": [
    "#et .symmetric_difference() Operation\n",
    "a= int(input())\n",
    "aset=set(map(int,input().split()))\n",
    "b=int(input())\n",
    "bset=set(map(int,input().split()))\n",
    "print(len(aset ^ bset) )"
   ]
  },
  {
   "cell_type": "code",
   "execution_count": null,
   "id": "949fa790",
   "metadata": {},
   "outputs": [],
   "source": [
    "#Set Mutations\n",
    "n= int(input())\n",
    "Aset=set(input().split())\n",
    "N= int(input())\n",
    "others=[]\n",
    "for _ in range(N):\n",
    "    (op, _), Bset = input().split(), set(input().split())\n",
    "    eval(f'Aset.{op}({Bset})')\n",
    "print(sum(map(int, Aset)))\n"
   ]
  },
  {
   "cell_type": "code",
   "execution_count": 57,
   "id": "dd574de1",
   "metadata": {},
   "outputs": [
    {
     "name": "stdout",
     "output_type": "stream",
     "text": [
      "2\n",
      "1 1 2 2 3 3 4\n",
      "4\n"
     ]
    }
   ],
   "source": [
    "#The Captain's Room\n",
    "K=int(input())\n",
    "room_list=list(map(int,input().split()))\n",
    "\n",
    "for room in room_list:\n",
    "    if room_list.count(room)==1:\n",
    "        print(room)\n",
    "        break"
   ]
  },
  {
   "cell_type": "code",
   "execution_count": 46,
   "id": "77e5f0ac",
   "metadata": {},
   "outputs": [
    {
     "name": "stdout",
     "output_type": "stream",
     "text": [
      "1\n",
      "3\n",
      "1 2 3\n",
      "5\n",
      "1 2 3 6 8 \n",
      "True\n"
     ]
    }
   ],
   "source": [
    "#Check Subset\n",
    "T=int(input())\n",
    "for x in range(T):\n",
    "    a=input()\n",
    "    A=set(map(int, input().split()))\n",
    "    b=input()\n",
    "    B=set(map(int, input().split()))\n",
    "    if len(B.intersection(A)) == len(A):\n",
    "        print ('True')\n",
    "    else:\n",
    "        print ('False')\n"
   ]
  },
  {
   "cell_type": "code",
   "execution_count": 50,
   "id": "5ce82877",
   "metadata": {},
   "outputs": [
    {
     "name": "stdout",
     "output_type": "stream",
     "text": [
      "1 2 3 4 5 6 7 8 9 \n",
      "3\n",
      "1 2 3 \n",
      "3 4 5 \n",
      "4 5 8 7 \n",
      "False\n"
     ]
    }
   ],
   "source": [
    "#Check Strict Superset\n",
    "A=set(map(int,input().split()))\n",
    "n=int(input())\n",
    "a='True'\n",
    "for _ in range(n):\n",
    "    b=set(map(int,input().split()))\n",
    "    if a =='True':\n",
    "        if b in A:\n",
    "            if len(A) < len(b):\n",
    "                a='False'            \n",
    "        else:\n",
    "            a='False'        \n",
    "    \n",
    "print(a)\n",
    "            "
   ]
  },
  {
   "cell_type": "markdown",
   "id": "45c619ed-11ed-4f3b-aba5-7e0b08c4377b",
   "metadata": {},
   "source": [
    "### Collections"
   ]
  },
  {
   "cell_type": "code",
   "execution_count": 51,
   "id": "8407291a",
   "metadata": {},
   "outputs": [
    {
     "name": "stdout",
     "output_type": "stream",
     "text": [
      "5\n",
      "44 45 46 47 48 \n",
      "5\n",
      "44 50\n",
      "43 500\n",
      "46 60\n",
      "48 70\n",
      "47 70\n",
      "250\n"
     ]
    }
   ],
   "source": [
    "#collections.Counter()\n",
    "X=int(input())\n",
    "shoes=list(map(int,input().split()))\n",
    "N=int(input())\n",
    "tot=0\n",
    "for _ in range(N):\n",
    "    a, b=tuple(map(int,input().split()))\n",
    "    if a in shoes:\n",
    "        tot+=b\n",
    "        shoes.remove(a)\n",
    "print(tot)\n",
    "\n"
   ]
  },
  {
   "cell_type": "code",
   "execution_count": null,
   "id": "ca693d3f-c5bc-4067-b879-83b909599683",
   "metadata": {},
   "outputs": [],
   "source": [
    "#DefaultDict Tutorial\n",
    "from collections import defaultdict\n",
    "numbers=list(map(int,input().split()))\n",
    "n=numbers[0]\n",
    "m=numbers[1]\n",
    "A=defaultdict(list)\n",
    "B=defaultdict(list)\n",
    "\n",
    "for i in range(n):\n",
    "    a= input()\n",
    "    A[i].append(a)\n",
    "for i in range(m):\n",
    "    b= input()\n",
    "    B[i].append(b)\n",
    "for i in range(m):\n",
    "    Ain=list()\n",
    "    c=-1\n",
    "    for j in range(n):\n",
    "        if B[i]==A[j]:\n",
    "            M=j+1\n",
    "            Ain.append(M)\n",
    "            c+=1\n",
    "    if c ==-1:\n",
    "        Ain.append(c)\n",
    "    print(*Ain, sep=' ')"
   ]
  },
  {
   "cell_type": "code",
   "execution_count": 58,
   "id": "802f0f19",
   "metadata": {},
   "outputs": [
    {
     "name": "stdout",
     "output_type": "stream",
     "text": [
      "3\n",
      "ID NAME CLASS MARKS\n",
      "1 ST 3 10\n",
      "2 fr 5 12\n",
      "3 gm 6 8\n",
      "10.00\n"
     ]
    }
   ],
   "source": [
    "#Collections.namedtuple()\n",
    "from collections import namedtuple\n",
    "N=int(input())\n",
    "line1=input().split()\n",
    "n=0\n",
    "c=0\n",
    "student =namedtuple('name',line1)\n",
    "\n",
    "for x in range(N):\n",
    "    line=input().split()\n",
    "    line_x=student(ID=line[line1.index('ID')],NAME=line[line1.index('NAME')],CLASS=line[line1.index('CLASS')],MARKS=int(line[line1.index('MARKS')]))\n",
    "    n+=line_x.MARKS\n",
    "    c+=1\n",
    "print(format(n/c,'.2f'))"
   ]
  },
  {
   "cell_type": "code",
   "execution_count": null,
   "id": "d3f73dbc",
   "metadata": {},
   "outputs": [],
   "source": [
    "#Collections.OrderedDict()\n",
    "from collections import OrderedDict \n",
    "\n",
    "N = int(input())\n",
    "dic = {}\n",
    "n=0\n",
    "for i in range(N):\n",
    "    a=input().split()\n",
    "    obj=\" \".join(a[:-1])\n",
    "    price=int(a[-1])\n",
    "    dic[obj]=price+dic.get(obj,n)\n",
    "for i, j in dic.items():\n",
    "    print(i, j)\n",
    "\n",
    "    "
   ]
  },
  {
   "cell_type": "code",
   "execution_count": null,
   "id": "938a47d4",
   "metadata": {},
   "outputs": [],
   "source": [
    "#Word Order\n",
    "from collections import OrderedDict\n",
    "words= OrderedDict()\n",
    "for _x in range(int(input())):\n",
    "    n=input()\n",
    "    if n in words.keys():\n",
    "        words[n]+=1\n",
    "    else:\n",
    "        words[n]=1\n",
    "print(len(words))\n",
    "print(*words.values())\n",
    "    \n"
   ]
  },
  {
   "cell_type": "markdown",
   "id": "6d91660c-0f2a-4b91-8181-c394cb7c1ee6",
   "metadata": {},
   "source": [
    "### Date and Time"
   ]
  },
  {
   "cell_type": "code",
   "execution_count": null,
   "id": "d334b656",
   "metadata": {},
   "outputs": [],
   "source": [
    "#Calendar Module\n",
    "import calendar\n",
    "month,day,year = map(int,input().split())\n",
    "def finday(year,month,day):\n",
    "    g = ['MONDAY','TUESDAY','WEDNESDAY','THURSDAY','FRIDAY','SATURDAY','SUNDAY']\n",
    "    return g[calendar.weekday(year,month,day)]\n",
    "\n",
    "print(finday(year, month, day))"
   ]
  },
  {
   "cell_type": "code",
   "execution_count": null,
   "id": "8fc4ad53",
   "metadata": {},
   "outputs": [],
   "source": [
    "#!Time Delta\n",
    "\n",
    "import math\n",
    "import os\n",
    "import random\n",
    "import re\n",
    "import sys\n",
    "import datetime as dt\n",
    "\n",
    "def time_delta(t1, t2): \n",
    "    dt1 = dt.datetime.strptime(t1, '%a %d %b %Y %H:%M:%S %z')\n",
    "    dt2 = dt.datetime.strptime(t2, '%a %d %b %Y %H:%M:%S %z')\n",
    "    return f\"{round(abs((dt1-dt2).total_seconds()))}\"\n",
    "\n",
    "\n",
    "if __name__ == '__main__':\n",
    "    fptr = open(os.environ['OUTPUT_PATH'], 'w')\n",
    "\n",
    "    t = int(input())\n",
    "\n",
    "    for t_itr in range(t):\n",
    "        t1 = input()\n",
    "\n",
    "        t2 = input()\n",
    "\n",
    "        delta = time_delta(t1, t2)\n",
    "\n",
    "        fptr.write(delta + '\\n')\n",
    "\n",
    "    fptr.close()\n"
   ]
  },
  {
   "cell_type": "markdown",
   "id": "8b0e84b1-8bfc-4997-b44f-b03e5af986cd",
   "metadata": {},
   "source": [
    "### Errors and Exceptions"
   ]
  },
  {
   "cell_type": "code",
   "execution_count": null,
   "id": "edc5c2be-58c9-4247-a2a0-92e3e9b678a9",
   "metadata": {},
   "outputs": [],
   "source": [
    "#Exceptions\n",
    "T= int(input())\n",
    "for i in range(T):\n",
    "    try:\n",
    "        l =list(map(int,input().split()))\n",
    "        print(l[0]//l[1])\n",
    "    except ZeroDivisionError as e:\n",
    "        print(\"Error Code:\", e)\n",
    "    except ValueError as e:\n",
    "        print('Error Code:', e)"
   ]
  },
  {
   "cell_type": "markdown",
   "id": "953329ca-c722-49f3-9fdf-dbe6bb255b52",
   "metadata": {},
   "source": [
    "### Built-Ins"
   ]
  },
  {
   "cell_type": "code",
   "execution_count": null,
   "id": "5c0b22ab-f000-4599-911a-95eb35b2e5d4",
   "metadata": {},
   "outputs": [],
   "source": [
    "#Zipped!\n",
    "N, X= map(int,input().split())\n",
    "score_list = []\n",
    "for _ in range(int(X)):\n",
    "    s= list(map(float, input().split()))\n",
    "    score_list.append(s)\n",
    "\n",
    "for i in zip(*score_list):\n",
    "    print(sum(i)/X)\n",
    "    "
   ]
  },
  {
   "cell_type": "code",
   "execution_count": 2,
   "id": "353433ae-d434-40f4-b141-8e1898face19",
   "metadata": {},
   "outputs": [
    {
     "name": "stdin",
     "output_type": "stream",
     "text": [
      " 3 19\n",
      " x**3 -4*x +x +1\n"
     ]
    },
    {
     "name": "stdout",
     "output_type": "stream",
     "text": [
      "True\n"
     ]
    }
   ],
   "source": [
    "#input()\n",
    "x,k = list(map(int,input().split()))\n",
    "P=input()\n",
    "print(eval(P) == k)\n"
   ]
  },
  {
   "cell_type": "code",
   "execution_count": null,
   "id": "cd5af6ed-94c3-4e60-b84e-56a95106b535",
   "metadata": {},
   "outputs": [],
   "source": [
    "#Athlete Sort version1\n",
    "\n",
    "import math\n",
    "import os\n",
    "import random\n",
    "import re\n",
    "import sys\n",
    "\n",
    "if __name__ == '__main__':\n",
    "    nm = input().split()\n",
    "\n",
    "    n = int(nm[0])\n",
    "\n",
    "    m = int(nm[1])\n",
    "\n",
    "    arr = []\n",
    "\n",
    "    for _ in range(n):\n",
    "        arr.append(list(map(int, input().rstrip().split())))\n",
    "\n",
    "    k = int(input())\n",
    "    for x in range(n-1,0,-1):\n",
    "        if arr[x][k] == arr[x-1][k]:\n",
    "            arr.remove(x)\n",
    "        \n",
    "        elif arr[x][k] < arr[x-1][k]:\n",
    "            arr[x], arr[x-1] = arr[x-1], arr[x]\n",
    "            \n",
    "    for x in arr:\n",
    "        print(*x)\n",
    "            "
   ]
  },
  {
   "cell_type": "code",
   "execution_count": null,
   "id": "c3c18a0d-e6c6-4825-8b9e-05456ada0fdd",
   "metadata": {},
   "outputs": [],
   "source": [
    "#Athlete Sort version2\n",
    "import math\n",
    "import os\n",
    "import random\n",
    "import re\n",
    "import sys\n",
    "\n",
    "\n",
    "\n",
    "if __name__ == '__main__':\n",
    "    nm = input().split()\n",
    "\n",
    "    n = int(nm[0])\n",
    "\n",
    "    m = int(nm[1])\n",
    "\n",
    "    arr = []\n",
    "\n",
    "    for _ in range(n):\n",
    "        arr.append(list(map(int, input().rstrip().split())))\n",
    "\n",
    "    k = int(input())\n",
    "    sort_arr = sorted(arr, key=lambda x: x[k])\n",
    "    for i in sort_arr:\n",
    "        print(*i) \n",
    "            "
   ]
  },
  {
   "cell_type": "code",
   "execution_count": null,
   "id": "b6c1f1ea-1a65-411a-b2ff-04813af6c44d",
   "metadata": {},
   "outputs": [],
   "source": [
    "#ginortS\n",
    "n=list(input())\n",
    "n_U=list()\n",
    "n_L=list()\n",
    "n_D=list()\n",
    "for i in n:\n",
    "    if i.isupper()==True:\n",
    "        n_U.append(i)\n",
    "    elif i.islower()==True:\n",
    "        n_L.append(i)\n",
    "    elif i.isdigit()==True:\n",
    "        n_D.append(i)\n",
    "        \n",
    "n_U.sort()\n",
    "n_L.sort()\n",
    "n_D.sort()\n",
    "n_sort=n_L + n_U + n_D\n",
    "\n",
    "print(*n_sort,sep='')\n",
    "        "
   ]
  },
  {
   "cell_type": "markdown",
   "id": "49ba898b-66be-459c-8e89-d7789e29b7ea",
   "metadata": {},
   "source": [
    "### Python Functionals"
   ]
  },
  {
   "cell_type": "code",
   "execution_count": null,
   "id": "40cc5610-8312-4de8-8dd6-3100a1243313",
   "metadata": {},
   "outputs": [],
   "source": [
    "cube = lambda x: x**3 \n",
    "\n",
    "def fibonacci(n):\n",
    "    if  n < 2:\n",
    "        return [x for x in range(n)]\n",
    "    else:\n",
    "        ls=[0, 1]\n",
    "        for i in range(2,n):\n",
    "            s=ls[i-1] + ls[i-2]\n",
    "            ls.append(s)  \n",
    "    return ls\n",
    "\n",
    "        \n",
    "\n",
    "if __name__ == '__main__':\n",
    "    n = int(input())\n",
    "    print(list(map(cube, fibonacci(n))))"
   ]
  },
  {
   "cell_type": "markdown",
   "id": "c888649b-fd2b-4267-9179-07dd7be617fe",
   "metadata": {},
   "source": [
    "### XML "
   ]
  },
  {
   "cell_type": "code",
   "execution_count": null,
   "id": "4cf868e8-7076-4716-b8e1-44785ff9238d",
   "metadata": {},
   "outputs": [],
   "source": [
    "#XML 1 - Find the Score\n",
    "import sys\n",
    "import xml.etree.ElementTree as etree\n",
    "\n",
    "n = 0\n",
    "def get_attr_number(node):\n",
    "    global n\n",
    "    n += len(node.attrib)    \n",
    "    for child in node:\n",
    "        get_attr_number(child)\n",
    "    return n\n",
    "    # your code goes here\n",
    "\n",
    "if __name__ == '__main__':\n",
    "    sys.stdin.readline()\n",
    "    xml = sys.stdin.read()\n",
    "    tree = etree.ElementTree(etree.fromstring(xml))\n",
    "    root = tree.getroot()\n",
    "    print(get_attr_number(root))"
   ]
  },
  {
   "cell_type": "markdown",
   "id": "f6163adf-42ca-4a46-93b0-1b4ae45db02c",
   "metadata": {},
   "source": [
    "### Closures and Decorations"
   ]
  },
  {
   "cell_type": "code",
   "execution_count": null,
   "id": "948f3e7b-9e14-448a-b093-883c9e92e6bb",
   "metadata": {},
   "outputs": [],
   "source": [
    "#Standardize Mobile Number Using Decorators\n",
    "def wrapper(f):\n",
    "    def fun(l):\n",
    "        f([f\"+91 {i[-10:-5]} {i[-5:]}\" for i in l])\n",
    "    return fun\n",
    "\n",
    "@wrapper\n",
    "def sort_phone(l):\n",
    "    print(*sorted(l), sep='\\n')\n",
    "\n",
    "if __name__ == '__main__':\n",
    "    l = [input() for _ in range(int(input()))]\n",
    "    sort_phone(l) \n",
    "\n",
    "\n"
   ]
  },
  {
   "cell_type": "code",
   "execution_count": null,
   "id": "021dcdf6",
   "metadata": {},
   "outputs": [],
   "source": [
    "#Decorators 2 - Name Directory\n",
    "import operator\n",
    "\n",
    "def person_lister(f):\n",
    "    def inner(people):\n",
    "        people.sort(key=lambda x: int(x[2]))\n",
    "        return [f(person) for person in people]\n",
    "    return inner\n",
    "\n",
    "\n",
    "@person_lister\n",
    "def name_format(person):\n",
    "    return (\"Mr. \" if person[3] == \"M\" else \"Ms. \") + person[0] + \" \" + person[1]\n",
    "\n",
    "if __name__ == '__main__':\n",
    "    people = [input().split() for i in range(int(input()))]\n",
    "    print(*name_format(people), sep='\\n')"
   ]
  },
  {
   "cell_type": "markdown",
   "id": "55b81a41-0131-40b6-823b-0d6e0b187000",
   "metadata": {},
   "source": [
    "### Numpy"
   ]
  },
  {
   "cell_type": "code",
   "execution_count": null,
   "id": "4cc406bf-add2-45ea-b37e-c54a2454d86b",
   "metadata": {},
   "outputs": [],
   "source": [
    "#Arrays\n",
    "import numpy\n",
    "\n",
    "def arrays(arr):\n",
    "    arr.reverse()\n",
    "    return numpy.array(arr,float)\n",
    "\n",
    "arr = input().strip().split(' ')\n",
    "result = arrays(arr)\n",
    "print(result)"
   ]
  },
  {
   "cell_type": "code",
   "execution_count": null,
   "id": "26fe0c8c-d191-48ca-b239-5d4c0249f503",
   "metadata": {},
   "outputs": [],
   "source": [
    "#Shape and Reshape\n",
    "import numpy as np\n",
    "print(np.array(input().split(), int).reshape(3,3))\n",
    "\n"
   ]
  },
  {
   "cell_type": "code",
   "execution_count": null,
   "id": "acd0fb29-8ae5-46ff-87bf-297a30302439",
   "metadata": {},
   "outputs": [],
   "source": [
    "#Transpose and Flatten\n",
    "import numpy as np\n",
    "\n",
    "\n",
    "r, c = list(map(int, input().split()))\n",
    "matrix = np.array([list(map(int, input().split())) for _ in range(r)])\n",
    "print(matrix.T)\n",
    "print(matrix.flatten())\n"
   ]
  },
  {
   "cell_type": "code",
   "execution_count": null,
   "id": "14a0d13b-9c14-4db7-8dd0-37c9a05adab9",
   "metadata": {},
   "outputs": [],
   "source": [
    "#Concatenate\n",
    "import numpy as np\n",
    "N, M, P =list(map(int, input().split()))\n",
    "n1=[]\n",
    "m1=[]\n",
    "for _ in range(N):\n",
    "    n1.append(np.array(list(map(int, input().split()))))    \n",
    "for _ in range(M):\n",
    "    m1.append(np.array(list(map(int, input().split()))))    \n",
    "print(np.concatenate((n1,m1), axis=0))    \n"
   ]
  },
  {
   "cell_type": "code",
   "execution_count": null,
   "id": "05dff065-6132-423e-bf1f-5c3110636665",
   "metadata": {},
   "outputs": [],
   "source": [
    "#Zeros and Ones\n",
    "import numpy\n",
    "shapes = list(map(int, input().split()))\n",
    "print(numpy.zeros((shapes), dtype = numpy.int))\n",
    "print(numpy.ones((shapes), dtype = numpy.int))"
   ]
  },
  {
   "cell_type": "code",
   "execution_count": null,
   "id": "a6178a8b-1bd7-45d3-a3db-6bb518a45e81",
   "metadata": {},
   "outputs": [],
   "source": [
    "#Detect Floating Point Number\n",
    "import re\n",
    "n = int(input())\n",
    "for i in range(n):\n",
    "    if re.match('^[+-]{0,1}[\\d]{0,}\\.\\d+$', input()):\n",
    "        print(True)\n",
    "    else:\n",
    "        print(False)"
   ]
  },
  {
   "cell_type": "markdown",
   "id": "6bde7cf9-4654-4db9-86b4-f7225458be3d",
   "metadata": {},
   "source": [
    "## Problem 2."
   ]
  },
  {
   "cell_type": "markdown",
   "id": "ddb9f997-e37e-4797-9ed2-739a9a587d0d",
   "metadata": {},
   "source": [
    "### Problem Solving"
   ]
  },
  {
   "cell_type": "code",
   "execution_count": null,
   "id": "73e43bd0-0269-4681-bdaa-e1c48752e6f5",
   "metadata": {},
   "outputs": [],
   "source": [
    "#Birthday Cake Candles\n",
    "import math\n",
    "import os\n",
    "import random\n",
    "import re\n",
    "import sys\n",
    "\n",
    "def birthdayCakeCandles(candles):\n",
    "    c=0\n",
    "    M=max(candles)\n",
    "    for x in candles:\n",
    "        if x ==M:\n",
    "            c+=1\n",
    "    return c\n",
    "\n",
    "if __name__ == '__main__':\n",
    "    fptr = open(os.environ['OUTPUT_PATH'], 'w')\n",
    "\n",
    "    candles_count = int(input().strip())\n",
    "\n",
    "    candles = list(map(int, input().rstrip().split()))\n",
    "\n",
    "    result = birthdayCakeCandles(candles)\n",
    "\n",
    "    fptr.write(str(result) + '\\n')\n",
    "\n",
    "    fptr.close()"
   ]
  },
  {
   "cell_type": "code",
   "execution_count": null,
   "id": "2a871930-f8ae-4607-88fe-b7aa5283a0f0",
   "metadata": {},
   "outputs": [],
   "source": [
    "#Time Conversion\n",
    "import math\n",
    "import os\n",
    "import random\n",
    "import re\n",
    "import sys\n",
    "\n",
    "def timeConversion(s):\n",
    "    if s[-2]=='P':\n",
    "        if s[0:2:] != '12':\n",
    "            t= int(s[0:2:])+ 12\n",
    "            ris= s.replace(s[0:2:],str(t))\n",
    "        else:\n",
    "            ris= s\n",
    "    else:\n",
    "        if s[0:2:]== '12':\n",
    "            ris= s.replace(s[0:2:], '00')\n",
    "        else:\n",
    "            ris= s\n",
    "    return ris[0:8:]\n",
    "\n",
    "if __name__ == '__main__':\n",
    "    fptr = open(os.environ['OUTPUT_PATH'], 'w')\n",
    "\n",
    "    s = input()\n",
    "\n",
    "    result = timeConversion(s)\n",
    "\n",
    "    fptr.write(result + '\\n')\n",
    "\n",
    "    fptr.close()"
   ]
  },
  {
   "cell_type": "code",
   "execution_count": null,
   "id": "2b9b771f-bee4-4fe6-b6be-2d69a2b2bf27",
   "metadata": {},
   "outputs": [],
   "source": [
    "#Number Line Jumps\n",
    "import math\n",
    "import os\n",
    "import random\n",
    "import re\n",
    "import sys\n",
    "\n",
    "def kangaroo(x1, v1, x2, v2):\n",
    "        sipuo= (x2-x1)/(v1-v2)\n",
    "        if sipuo > 0 and (x2-x1)%(v1-v2)==0:\n",
    "            return 'YES'\n",
    "        else:\n",
    "            return 'NO'\n",
    "            \n",
    "\n",
    "if __name__ == '__main__':\n",
    "    fptr = open(os.environ['OUTPUT_PATH'], 'w')\n",
    "\n",
    "    first_multiple_input = input().rstrip().split()\n",
    "\n",
    "    x1 = int(first_multiple_input[0])\n",
    "\n",
    "    v1 = int(first_multiple_input[1])\n",
    "\n",
    "    x2 = int(first_multiple_input[2])\n",
    "\n",
    "    v2 = int(first_multiple_input[3])\n",
    "\n",
    "    result = kangaroo(x1, v1, x2, v2)\n",
    "\n",
    "    fptr.write(result + '\\n')\n",
    "\n",
    "    fptr.close()"
   ]
  },
  {
   "cell_type": "code",
   "execution_count": null,
   "id": "00e5478e-de9c-4cca-a93b-44fd6df5ab0e",
   "metadata": {},
   "outputs": [],
   "source": [
    "#Viral Advertising\n",
    "import math\n",
    "import os\n",
    "import random\n",
    "import re\n",
    "import sys\n",
    "\n",
    "def viralAdvertising(n):\n",
    "    com=0\n",
    "    s=5\n",
    "    for i in range(n):\n",
    "        l=s//2\n",
    "        com += l\n",
    "        s=l*3\n",
    "    return com\n",
    "\n",
    "if __name__ == '__main__':\n",
    "    fptr = open(os.environ['OUTPUT_PATH'], 'w')\n",
    "\n",
    "    n = int(input().strip())\n",
    "\n",
    "    result = viralAdvertising(n)\n",
    "\n",
    "    fptr.write(str(result) + '\\n')\n",
    "\n",
    "    fptr.close()"
   ]
  },
  {
   "cell_type": "code",
   "execution_count": null,
   "id": "5d3342f2-0081-4f91-9fd8-79895c41e0ab",
   "metadata": {},
   "outputs": [],
   "source": [
    "#Recursive Digit Sum\n",
    "import math\n",
    "import os\n",
    "import random\n",
    "import re\n",
    "import sys\n",
    "\n",
    "def superDigit(n, k):\n",
    "    if (int(n)) < 10:\n",
    "        c=int(n)*k\n",
    "        if(c < 10):\n",
    "            return c\n",
    "            pass\n",
    "        else:\n",
    "            return superDigit(c, 1)\n",
    "    new = str(n)\n",
    "    s=0\n",
    "    for a in new:\n",
    "        s += int(a)\n",
    "    return superDigit(s,k)\n",
    "\n",
    "\n",
    "        \n",
    "\n",
    "if __name__ == '__main__':\n",
    "    fptr = open(os.environ['OUTPUT_PATH'], 'w')\n",
    "\n",
    "    first_multiple_input = input().rstrip().split()\n",
    "\n",
    "    n = first_multiple_input[0]\n",
    "\n",
    "    k = int(first_multiple_input[1])\n",
    "\n",
    "    result = superDigit(n, k)\n",
    "\n",
    "    fptr.write(str(result) + '\\n')\n",
    "\n",
    "    fptr.close()"
   ]
  },
  {
   "cell_type": "code",
   "execution_count": null,
   "id": "438762c7-4f54-4725-992a-f76cc168147e",
   "metadata": {},
   "outputs": [],
   "source": [
    "#Insertion Sort - Part 1\n",
    "import math\n",
    "import os\n",
    "import random\n",
    "import re\n",
    "import sys\n",
    "\n",
    "def insertionSort1(n, arr):\n",
    "    for i in range((n-1),0,-1):\n",
    "        if arr[i] < arr[i-1]:\n",
    "            point = arr[i]\n",
    "            arr[i] = arr[i-1]\n",
    "            print(*arr)\n",
    "            arr[i-1] = point\n",
    "    print(*arr)\n",
    "\n",
    "if __name__ == '__main__':\n",
    "    n = int(input().strip())\n",
    "\n",
    "    arr = list(map(int, input().rstrip().split()))\n",
    "\n",
    "    insertionSort1(n, arr)"
   ]
  },
  {
   "cell_type": "code",
   "execution_count": null,
   "id": "0df571b5-77a7-4f96-9221-148c582e083d",
   "metadata": {},
   "outputs": [],
   "source": [
    "#Insertion Sort - Part 2\n",
    "import math\n",
    "import os\n",
    "import random\n",
    "import re\n",
    "import sys\n",
    "\n",
    "def insertionSort2(n, arr):\n",
    "    for m in range(1,n):\n",
    "        j=m\n",
    "        while arr[j-1]>arr[j] and j>0:\n",
    "            p=arr[j]\n",
    "            arr[j]=arr[j-1]\n",
    "            arr[j-1]=p\n",
    "            j-=1\n",
    "        print(*arr)\n",
    "        \n",
    "if __name__ == '__main__':\n",
    "    n = int(input().strip())\n",
    "\n",
    "    arr = list(map(int, input().rstrip().split()))\n",
    "\n",
    "    insertionSort2(n, arr)"
   ]
  }
 ],
 "metadata": {
  "kernelspec": {
   "display_name": "Python 3 (ipykernel)",
   "language": "python",
   "name": "python3"
  },
  "language_info": {
   "codemirror_mode": {
    "name": "ipython",
    "version": 3
   },
   "file_extension": ".py",
   "mimetype": "text/x-python",
   "name": "python",
   "nbconvert_exporter": "python",
   "pygments_lexer": "ipython3",
   "version": "3.9.12"
  },
  "widgets": {
   "application/vnd.jupyter.widget-state+json": {
    "state": {},
    "version_major": 2,
    "version_minor": 0
   }
  }
 },
 "nbformat": 4,
 "nbformat_minor": 5
}
